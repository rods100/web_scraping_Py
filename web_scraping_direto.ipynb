{
 "cells": [
  {
   "cell_type": "code",
   "execution_count": 12,
   "id": "4404b6ad",
   "metadata": {},
   "outputs": [],
   "source": [
    "import selenium\n",
    "import os\n",
    "import wget"
   ]
  },
  {
   "cell_type": "code",
   "execution_count": 13,
   "id": "c9fb61d3",
   "metadata": {
    "scrolled": true
   },
   "outputs": [],
   "source": [
    "#imports here\n",
    "from selenium import webdriver\n",
    "from selenium.webdriver.common.keys import Keys\n",
    "from selenium.webdriver.support import expected_conditions as EC\n",
    "from selenium.webdriver.common.by import By\n",
    "from selenium.webdriver.support.wait import WebDriverWait\n",
    "from selenium.webdriver.chrome.service import Service\n",
    "from webdriver_manager.chrome import ChromeDriverManager\n",
    "import time\n"
   ]
  },
  {
   "cell_type": "code",
   "execution_count": 14,
   "id": "807c7f7b",
   "metadata": {},
   "outputs": [],
   "source": [
    "#Download ChromeDriver\n",
    "\n",
    "#Now we need to download latest stable release of ChromeDriver from:\n",
    "#https://chromedriver.chromium.org/"
   ]
  },
  {
   "cell_type": "code",
   "execution_count": 29,
   "id": "8de67d05",
   "metadata": {},
   "outputs": [
    {
     "name": "stderr",
     "output_type": "stream",
     "text": [
      "C:\\Users\\Rodrigo\\AppData\\Local\\Temp\\ipykernel_6352\\4274372558.py:5: DeprecationWarning: executable_path has been deprecated, please pass in a Service object\n",
      "  driver = webdriver.Chrome('C:/Dev_testes/web_crawling_Py/chromedriver.exe')\n"
     ]
    }
   ],
   "source": [
    "#specify the path to chromedriver.exe (download and save on your computer)\n",
    "#driver = webdriver.Firefox()\n",
    "ser = Service('chromedriver_win32/chromedriver.exe')\n",
    "op = webdriver.ChromeOptions()\n",
    "driver = webdriver.Chrome('C:/Dev_testes/web_crawling_Py/chromedriver.exe')\n",
    "\n",
    "\n",
    "#open the webpage\n",
    "driver.get(\"http://www.instagram.com\")\n",
    "\n"
   ]
  },
  {
   "cell_type": "code",
   "execution_count": 30,
   "id": "eedb62f9",
   "metadata": {},
   "outputs": [],
   "source": [
    "#target username\n",
    "username = WebDriverWait(driver, 10).until(EC.element_to_be_clickable((By.CSS_SELECTOR, \"input[name='username']\")))\n",
    "password = WebDriverWait(driver, 10).until(EC.element_to_be_clickable((By.CSS_SELECTOR, \"input[name='password']\")))\n",
    "\n",
    "username.clear()\n",
    "username.send_keys(\"usuario\")\n",
    "password.clear()\n",
    "password.send_keys(\"senha\")\n",
    "\n",
    "#target the login button and click it\n",
    "button = WebDriverWait(driver, 2).until(EC.element_to_be_clickable((By.CSS_SELECTOR, \"button[type='submit']\"))).click()\n",
    "\n"
   ]
  },
  {
   "cell_type": "code",
   "execution_count": 31,
   "id": "bb619d20",
   "metadata": {},
   "outputs": [],
   "source": [
    "notnow = WebDriverWait(driver, 10).until(EC.element_to_be_clickable((By.XPATH, '//button[contains(text(), \"Agora não\")]'))).click()\n",
    "notnow1 = WebDriverWait(driver, 10).until(EC.element_to_be_clickable((By.XPATH, '//button[contains(text(), \"Agora não\")]'))).click()"
   ]
  },
  {
   "cell_type": "code",
   "execution_count": 18,
   "id": "d9f272c9",
   "metadata": {},
   "outputs": [],
   "source": [
    "BBB = 'https://www.instagram.com/bbb/'\n",
    "Arthur_Aguiar = 'https://www.instagram.com/arthuraguiar/'\n",
    "Douglas_SIlva = 'https://www.instagram.com/douglassilva/'\n",
    "Eliezer = 'https://www.instagram.com/eliezer/'\n",
    "Linn = 'https://www.instagram.com/linndaquebrada/'\n",
    "PA = 'https://www.instagram.com/iampauloandre/'\n",
    "Luciano = 'https://www.instagram.com/lucianoestevan/'\n",
    "Lais = 'https://www.instagram.com/dra.laiscaldass/'\n",
    "Jessilane = 'https://www.instagram.com/jessilane/'\n",
    "eslovenia = 'https://www.instagram.com/eslomarques/'\n",
    "lucas = 'https://www.instagram.com/bissolilucas/'\n",
    "barbara = 'https://www.instagram.com/ba.heck/'\n",
    "rodrigo = 'https://www.instagram.com/rodrigo.mussi/'\n",
    "natalia = 'https://www.instagram.com/natalia.deodato/'\n",
    "vinicius = 'https://www.instagram.com/vyniof/'\n",
    "PedroScubi = 'https://www.instagram.com/pedroscooby/'\n",
    "bruna = 'https://www.instagram.com/brunnagoncalves/'\n",
    "maria = 'https://www.instagram.com/eumaria/'\n",
    "jade = 'https://www.instagram.com/jadepicon/'\n",
    "Tiago = 'https://www.instagram.com/tiagoabravanel/'\n",
    "Naiara = 'https://www.instagram.com/naiaraazevedo/'\n",
    "Gustavo = 'https://www.instagram.com/gustavo_marsengo/'\n",
    "Larissa = 'https://www.instagram.com/larissatomasia/'"
   ]
  },
  {
   "cell_type": "code",
   "execution_count": 19,
   "id": "ddbcbb8e",
   "metadata": {},
   "outputs": [],
   "source": [
    "lista = [ BBB ,Arthur_Aguiar, Douglas_SIlva,Eliezer, Linn, PA, Luciano, Lais, Jessilane, eslovenia, lucas, barbara, rodrigo, natalia, vinicius, PedroScubi, bruna, maria, jade, Tiago, Naiara, Gustavo, Larissa]"
   ]
  },
  {
   "cell_type": "raw",
   "id": "2a56fcc9",
   "metadata": {},
   "source": [
    "AGORA QUERO SALVAR A INFORMAÇÃO DE QUANTOS SEGUIDORES CADA PERFIL TEM, POSSO SALVAR EM UMA TABELA DO EXCEL\n",
    "SALVAR A INFORMAÇÃO EM UMA VARIAVEL E DEPOIS SALVAR NO EXCEL"
   ]
  },
  {
   "cell_type": "raw",
   "id": "244f5e46",
   "metadata": {},
   "source": [
    "    ## Como salvar dados em planilha com pandas"
   ]
  },
  {
   "cell_type": "code",
   "execution_count": 20,
   "id": "7930b759",
   "metadata": {},
   "outputs": [
    {
     "name": "stdout",
     "output_type": "stream",
     "text": [
      "07/04/2022\n"
     ]
    }
   ],
   "source": [
    "from datetime import datetime\n",
    "\n",
    "data = datetime.today().strftime('%d/%m/%Y')\n",
    "print(data)\n"
   ]
  },
  {
   "cell_type": "code",
   "execution_count": 27,
   "id": "d387056c",
   "metadata": {},
   "outputs": [],
   "source": [
    "#pandas\n",
    "import pandas as pd\n",
    "tabela = pd.read_excel('consulta_BBB.xlsx')"
   ]
  },
  {
   "cell_type": "code",
   "execution_count": 28,
   "id": "42a6b29f",
   "metadata": {},
   "outputs": [
    {
     "data": {
      "text/html": [
       "<div>\n",
       "<style scoped>\n",
       "    .dataframe tbody tr th:only-of-type {\n",
       "        vertical-align: middle;\n",
       "    }\n",
       "\n",
       "    .dataframe tbody tr th {\n",
       "        vertical-align: top;\n",
       "    }\n",
       "\n",
       "    .dataframe thead th {\n",
       "        text-align: right;\n",
       "    }\n",
       "</style>\n",
       "<table border=\"1\" class=\"dataframe\">\n",
       "  <thead>\n",
       "    <tr style=\"text-align: right;\">\n",
       "      <th></th>\n",
       "      <th>Nome</th>\n",
       "      <th>Seguidores</th>\n",
       "      <th>Seguindo</th>\n",
       "      <th>Publicacoes</th>\n",
       "      <th>Data</th>\n",
       "    </tr>\n",
       "  </thead>\n",
       "  <tbody>\n",
       "  </tbody>\n",
       "</table>\n",
       "</div>"
      ],
      "text/plain": [
       "Empty DataFrame\n",
       "Columns: [Nome, Seguidores, Seguindo, Publicacoes, Data]\n",
       "Index: []"
      ]
     },
     "metadata": {},
     "output_type": "display_data"
    }
   ],
   "source": [
    "display(tabela)"
   ]
  },
  {
   "cell_type": "code",
   "execution_count": 32,
   "id": "5e43d7e0",
   "metadata": {},
   "outputs": [
    {
     "name": "stdout",
     "output_type": "stream",
     "text": [
      "0 https://www.instagram.com/bbb/\n"
     ]
    },
    {
     "name": "stderr",
     "output_type": "stream",
     "text": [
      "C:\\Users\\Rodrigo\\AppData\\Local\\Temp\\ipykernel_6352\\3184594378.py:13: FutureWarning: The frame.append method is deprecated and will be removed from pandas in a future version. Use pandas.concat instead.\n",
      "  tabela = tabela.append({'Nome': nome_pagina, 'Seguidores': follow, 'Seguindo': num_seguindo, 'Publicacoes': num_publi, 'Data': data},ignore_index = True )\n"
     ]
    },
    {
     "name": "stdout",
     "output_type": "stream",
     "text": [
      "dentro do for\n",
      "1 https://www.instagram.com/arthuraguiar/\n"
     ]
    },
    {
     "name": "stderr",
     "output_type": "stream",
     "text": [
      "C:\\Users\\Rodrigo\\AppData\\Local\\Temp\\ipykernel_6352\\3184594378.py:13: FutureWarning: The frame.append method is deprecated and will be removed from pandas in a future version. Use pandas.concat instead.\n",
      "  tabela = tabela.append({'Nome': nome_pagina, 'Seguidores': follow, 'Seguindo': num_seguindo, 'Publicacoes': num_publi, 'Data': data},ignore_index = True )\n"
     ]
    },
    {
     "name": "stdout",
     "output_type": "stream",
     "text": [
      "dentro do for\n",
      "2 https://www.instagram.com/douglassilva/\n"
     ]
    },
    {
     "name": "stderr",
     "output_type": "stream",
     "text": [
      "C:\\Users\\Rodrigo\\AppData\\Local\\Temp\\ipykernel_6352\\3184594378.py:13: FutureWarning: The frame.append method is deprecated and will be removed from pandas in a future version. Use pandas.concat instead.\n",
      "  tabela = tabela.append({'Nome': nome_pagina, 'Seguidores': follow, 'Seguindo': num_seguindo, 'Publicacoes': num_publi, 'Data': data},ignore_index = True )\n"
     ]
    },
    {
     "name": "stdout",
     "output_type": "stream",
     "text": [
      "dentro do for\n",
      "3 https://www.instagram.com/eliezer/\n"
     ]
    },
    {
     "name": "stderr",
     "output_type": "stream",
     "text": [
      "C:\\Users\\Rodrigo\\AppData\\Local\\Temp\\ipykernel_6352\\3184594378.py:13: FutureWarning: The frame.append method is deprecated and will be removed from pandas in a future version. Use pandas.concat instead.\n",
      "  tabela = tabela.append({'Nome': nome_pagina, 'Seguidores': follow, 'Seguindo': num_seguindo, 'Publicacoes': num_publi, 'Data': data},ignore_index = True )\n"
     ]
    },
    {
     "name": "stdout",
     "output_type": "stream",
     "text": [
      "dentro do for\n",
      "4 https://www.instagram.com/linndaquebrada/\n"
     ]
    },
    {
     "name": "stderr",
     "output_type": "stream",
     "text": [
      "C:\\Users\\Rodrigo\\AppData\\Local\\Temp\\ipykernel_6352\\3184594378.py:13: FutureWarning: The frame.append method is deprecated and will be removed from pandas in a future version. Use pandas.concat instead.\n",
      "  tabela = tabela.append({'Nome': nome_pagina, 'Seguidores': follow, 'Seguindo': num_seguindo, 'Publicacoes': num_publi, 'Data': data},ignore_index = True )\n"
     ]
    },
    {
     "name": "stdout",
     "output_type": "stream",
     "text": [
      "dentro do for\n",
      "5 https://www.instagram.com/iampauloandre/\n"
     ]
    },
    {
     "name": "stderr",
     "output_type": "stream",
     "text": [
      "C:\\Users\\Rodrigo\\AppData\\Local\\Temp\\ipykernel_6352\\3184594378.py:13: FutureWarning: The frame.append method is deprecated and will be removed from pandas in a future version. Use pandas.concat instead.\n",
      "  tabela = tabela.append({'Nome': nome_pagina, 'Seguidores': follow, 'Seguindo': num_seguindo, 'Publicacoes': num_publi, 'Data': data},ignore_index = True )\n"
     ]
    },
    {
     "name": "stdout",
     "output_type": "stream",
     "text": [
      "dentro do for\n",
      "6 https://www.instagram.com/lucianoestevan/\n"
     ]
    },
    {
     "name": "stderr",
     "output_type": "stream",
     "text": [
      "C:\\Users\\Rodrigo\\AppData\\Local\\Temp\\ipykernel_6352\\3184594378.py:13: FutureWarning: The frame.append method is deprecated and will be removed from pandas in a future version. Use pandas.concat instead.\n",
      "  tabela = tabela.append({'Nome': nome_pagina, 'Seguidores': follow, 'Seguindo': num_seguindo, 'Publicacoes': num_publi, 'Data': data},ignore_index = True )\n"
     ]
    },
    {
     "name": "stdout",
     "output_type": "stream",
     "text": [
      "dentro do for\n",
      "7 https://www.instagram.com/dra.laiscaldass/\n"
     ]
    },
    {
     "name": "stderr",
     "output_type": "stream",
     "text": [
      "C:\\Users\\Rodrigo\\AppData\\Local\\Temp\\ipykernel_6352\\3184594378.py:13: FutureWarning: The frame.append method is deprecated and will be removed from pandas in a future version. Use pandas.concat instead.\n",
      "  tabela = tabela.append({'Nome': nome_pagina, 'Seguidores': follow, 'Seguindo': num_seguindo, 'Publicacoes': num_publi, 'Data': data},ignore_index = True )\n"
     ]
    },
    {
     "name": "stdout",
     "output_type": "stream",
     "text": [
      "dentro do for\n",
      "8 https://www.instagram.com/jessilane/\n"
     ]
    },
    {
     "name": "stderr",
     "output_type": "stream",
     "text": [
      "C:\\Users\\Rodrigo\\AppData\\Local\\Temp\\ipykernel_6352\\3184594378.py:13: FutureWarning: The frame.append method is deprecated and will be removed from pandas in a future version. Use pandas.concat instead.\n",
      "  tabela = tabela.append({'Nome': nome_pagina, 'Seguidores': follow, 'Seguindo': num_seguindo, 'Publicacoes': num_publi, 'Data': data},ignore_index = True )\n"
     ]
    },
    {
     "name": "stdout",
     "output_type": "stream",
     "text": [
      "dentro do for\n",
      "9 https://www.instagram.com/eslomarques/\n"
     ]
    },
    {
     "name": "stderr",
     "output_type": "stream",
     "text": [
      "C:\\Users\\Rodrigo\\AppData\\Local\\Temp\\ipykernel_6352\\3184594378.py:13: FutureWarning: The frame.append method is deprecated and will be removed from pandas in a future version. Use pandas.concat instead.\n",
      "  tabela = tabela.append({'Nome': nome_pagina, 'Seguidores': follow, 'Seguindo': num_seguindo, 'Publicacoes': num_publi, 'Data': data},ignore_index = True )\n"
     ]
    },
    {
     "name": "stdout",
     "output_type": "stream",
     "text": [
      "dentro do for\n",
      "10 https://www.instagram.com/bissolilucas/\n"
     ]
    },
    {
     "name": "stderr",
     "output_type": "stream",
     "text": [
      "C:\\Users\\Rodrigo\\AppData\\Local\\Temp\\ipykernel_6352\\3184594378.py:13: FutureWarning: The frame.append method is deprecated and will be removed from pandas in a future version. Use pandas.concat instead.\n",
      "  tabela = tabela.append({'Nome': nome_pagina, 'Seguidores': follow, 'Seguindo': num_seguindo, 'Publicacoes': num_publi, 'Data': data},ignore_index = True )\n"
     ]
    },
    {
     "name": "stdout",
     "output_type": "stream",
     "text": [
      "dentro do for\n",
      "11 https://www.instagram.com/ba.heck/\n"
     ]
    },
    {
     "name": "stderr",
     "output_type": "stream",
     "text": [
      "C:\\Users\\Rodrigo\\AppData\\Local\\Temp\\ipykernel_6352\\3184594378.py:13: FutureWarning: The frame.append method is deprecated and will be removed from pandas in a future version. Use pandas.concat instead.\n",
      "  tabela = tabela.append({'Nome': nome_pagina, 'Seguidores': follow, 'Seguindo': num_seguindo, 'Publicacoes': num_publi, 'Data': data},ignore_index = True )\n"
     ]
    },
    {
     "name": "stdout",
     "output_type": "stream",
     "text": [
      "dentro do for\n",
      "12 https://www.instagram.com/rodrigo.mussi/\n"
     ]
    },
    {
     "name": "stderr",
     "output_type": "stream",
     "text": [
      "C:\\Users\\Rodrigo\\AppData\\Local\\Temp\\ipykernel_6352\\3184594378.py:13: FutureWarning: The frame.append method is deprecated and will be removed from pandas in a future version. Use pandas.concat instead.\n",
      "  tabela = tabela.append({'Nome': nome_pagina, 'Seguidores': follow, 'Seguindo': num_seguindo, 'Publicacoes': num_publi, 'Data': data},ignore_index = True )\n"
     ]
    },
    {
     "name": "stdout",
     "output_type": "stream",
     "text": [
      "dentro do for\n",
      "13 https://www.instagram.com/natalia.deodato/\n"
     ]
    },
    {
     "name": "stderr",
     "output_type": "stream",
     "text": [
      "C:\\Users\\Rodrigo\\AppData\\Local\\Temp\\ipykernel_6352\\3184594378.py:13: FutureWarning: The frame.append method is deprecated and will be removed from pandas in a future version. Use pandas.concat instead.\n",
      "  tabela = tabela.append({'Nome': nome_pagina, 'Seguidores': follow, 'Seguindo': num_seguindo, 'Publicacoes': num_publi, 'Data': data},ignore_index = True )\n"
     ]
    },
    {
     "name": "stdout",
     "output_type": "stream",
     "text": [
      "dentro do for\n",
      "14 https://www.instagram.com/vyniof/\n"
     ]
    },
    {
     "name": "stderr",
     "output_type": "stream",
     "text": [
      "C:\\Users\\Rodrigo\\AppData\\Local\\Temp\\ipykernel_6352\\3184594378.py:13: FutureWarning: The frame.append method is deprecated and will be removed from pandas in a future version. Use pandas.concat instead.\n",
      "  tabela = tabela.append({'Nome': nome_pagina, 'Seguidores': follow, 'Seguindo': num_seguindo, 'Publicacoes': num_publi, 'Data': data},ignore_index = True )\n"
     ]
    },
    {
     "name": "stdout",
     "output_type": "stream",
     "text": [
      "dentro do for\n",
      "15 https://www.instagram.com/pedroscooby/\n"
     ]
    },
    {
     "name": "stderr",
     "output_type": "stream",
     "text": [
      "C:\\Users\\Rodrigo\\AppData\\Local\\Temp\\ipykernel_6352\\3184594378.py:13: FutureWarning: The frame.append method is deprecated and will be removed from pandas in a future version. Use pandas.concat instead.\n",
      "  tabela = tabela.append({'Nome': nome_pagina, 'Seguidores': follow, 'Seguindo': num_seguindo, 'Publicacoes': num_publi, 'Data': data},ignore_index = True )\n"
     ]
    },
    {
     "name": "stdout",
     "output_type": "stream",
     "text": [
      "dentro do for\n",
      "16 https://www.instagram.com/brunnagoncalves/\n"
     ]
    },
    {
     "name": "stderr",
     "output_type": "stream",
     "text": [
      "C:\\Users\\Rodrigo\\AppData\\Local\\Temp\\ipykernel_6352\\3184594378.py:13: FutureWarning: The frame.append method is deprecated and will be removed from pandas in a future version. Use pandas.concat instead.\n",
      "  tabela = tabela.append({'Nome': nome_pagina, 'Seguidores': follow, 'Seguindo': num_seguindo, 'Publicacoes': num_publi, 'Data': data},ignore_index = True )\n"
     ]
    },
    {
     "name": "stdout",
     "output_type": "stream",
     "text": [
      "dentro do for\n",
      "17 https://www.instagram.com/eumaria/\n"
     ]
    },
    {
     "name": "stderr",
     "output_type": "stream",
     "text": [
      "C:\\Users\\Rodrigo\\AppData\\Local\\Temp\\ipykernel_6352\\3184594378.py:13: FutureWarning: The frame.append method is deprecated and will be removed from pandas in a future version. Use pandas.concat instead.\n",
      "  tabela = tabela.append({'Nome': nome_pagina, 'Seguidores': follow, 'Seguindo': num_seguindo, 'Publicacoes': num_publi, 'Data': data},ignore_index = True )\n"
     ]
    },
    {
     "name": "stdout",
     "output_type": "stream",
     "text": [
      "dentro do for\n",
      "18 https://www.instagram.com/jadepicon/\n"
     ]
    },
    {
     "name": "stderr",
     "output_type": "stream",
     "text": [
      "C:\\Users\\Rodrigo\\AppData\\Local\\Temp\\ipykernel_6352\\3184594378.py:13: FutureWarning: The frame.append method is deprecated and will be removed from pandas in a future version. Use pandas.concat instead.\n",
      "  tabela = tabela.append({'Nome': nome_pagina, 'Seguidores': follow, 'Seguindo': num_seguindo, 'Publicacoes': num_publi, 'Data': data},ignore_index = True )\n"
     ]
    },
    {
     "name": "stdout",
     "output_type": "stream",
     "text": [
      "dentro do for\n",
      "19 https://www.instagram.com/tiagoabravanel/\n"
     ]
    },
    {
     "name": "stderr",
     "output_type": "stream",
     "text": [
      "C:\\Users\\Rodrigo\\AppData\\Local\\Temp\\ipykernel_6352\\3184594378.py:13: FutureWarning: The frame.append method is deprecated and will be removed from pandas in a future version. Use pandas.concat instead.\n",
      "  tabela = tabela.append({'Nome': nome_pagina, 'Seguidores': follow, 'Seguindo': num_seguindo, 'Publicacoes': num_publi, 'Data': data},ignore_index = True )\n"
     ]
    },
    {
     "name": "stdout",
     "output_type": "stream",
     "text": [
      "dentro do for\n",
      "20 https://www.instagram.com/naiaraazevedo/\n"
     ]
    },
    {
     "name": "stderr",
     "output_type": "stream",
     "text": [
      "C:\\Users\\Rodrigo\\AppData\\Local\\Temp\\ipykernel_6352\\3184594378.py:13: FutureWarning: The frame.append method is deprecated and will be removed from pandas in a future version. Use pandas.concat instead.\n",
      "  tabela = tabela.append({'Nome': nome_pagina, 'Seguidores': follow, 'Seguindo': num_seguindo, 'Publicacoes': num_publi, 'Data': data},ignore_index = True )\n"
     ]
    },
    {
     "name": "stdout",
     "output_type": "stream",
     "text": [
      "dentro do for\n",
      "21 https://www.instagram.com/gustavo_marsengo/\n"
     ]
    },
    {
     "name": "stderr",
     "output_type": "stream",
     "text": [
      "C:\\Users\\Rodrigo\\AppData\\Local\\Temp\\ipykernel_6352\\3184594378.py:13: FutureWarning: The frame.append method is deprecated and will be removed from pandas in a future version. Use pandas.concat instead.\n",
      "  tabela = tabela.append({'Nome': nome_pagina, 'Seguidores': follow, 'Seguindo': num_seguindo, 'Publicacoes': num_publi, 'Data': data},ignore_index = True )\n"
     ]
    },
    {
     "name": "stdout",
     "output_type": "stream",
     "text": [
      "dentro do for\n",
      "22 https://www.instagram.com/larissatomasia/\n"
     ]
    },
    {
     "name": "stderr",
     "output_type": "stream",
     "text": [
      "C:\\Users\\Rodrigo\\AppData\\Local\\Temp\\ipykernel_6352\\3184594378.py:13: FutureWarning: The frame.append method is deprecated and will be removed from pandas in a future version. Use pandas.concat instead.\n",
      "  tabela = tabela.append({'Nome': nome_pagina, 'Seguidores': follow, 'Seguindo': num_seguindo, 'Publicacoes': num_publi, 'Data': data},ignore_index = True )\n"
     ]
    },
    {
     "name": "stdout",
     "output_type": "stream",
     "text": [
      "dentro do for\n",
      "rodrigo\n"
     ]
    }
   ],
   "source": [
    "for i in range(len(lista)):\n",
    "    lista[i] = lista[i]\n",
    "    print (i, lista[i] )\n",
    "    driver.get(lista[i])\n",
    "    num_follow = driver.find_element(By.XPATH,'//*[@id=\"react-root\"]/div/div/section/main/div/header/section/ul/li[2]/a/div/span')\n",
    "    follow = num_follow.get_attribute('title')\n",
    "    num_publi = driver.find_element(By.XPATH,'//*[@id=\"react-root\"]/div/div/section/main/div/header/section/ul/li[1]/div/span')\n",
    "    num_publi = num_publi.text\n",
    "    num_seguindo = driver.find_element(By.XPATH, '//*[@id=\"react-root\"]/div/div/section/main/div/header/section/ul/li[3]/a/div/span')\n",
    "    num_seguindo = num_seguindo.text\n",
    "    nome_pagina = driver.find_element(By.XPATH, '//*[@id=\"react-root\"]/div/div/section/main/div/header/section/div[1]/h2')\n",
    "    nome_pagina = nome_pagina.text\n",
    "    tabela = tabela.append({'Nome': nome_pagina, 'Seguidores': follow, 'Seguindo': num_seguindo, 'Publicacoes': num_publi, 'Data': data},ignore_index = True )\n",
    "    print('dentro do for')\n",
    "    time.sleep(2)\n",
    "    \n",
    "print ('rodrigo')\n"
   ]
  },
  {
   "cell_type": "code",
   "execution_count": 24,
   "id": "bf715c45",
   "metadata": {},
   "outputs": [],
   "source": [
    "driver.close()"
   ]
  },
  {
   "cell_type": "code",
   "execution_count": 25,
   "id": "d45ba517",
   "metadata": {},
   "outputs": [
    {
     "data": {
      "text/html": [
       "<div>\n",
       "<style scoped>\n",
       "    .dataframe tbody tr th:only-of-type {\n",
       "        vertical-align: middle;\n",
       "    }\n",
       "\n",
       "    .dataframe tbody tr th {\n",
       "        vertical-align: top;\n",
       "    }\n",
       "\n",
       "    .dataframe thead th {\n",
       "        text-align: right;\n",
       "    }\n",
       "</style>\n",
       "<table border=\"1\" class=\"dataframe\">\n",
       "  <thead>\n",
       "    <tr style=\"text-align: right;\">\n",
       "      <th></th>\n",
       "      <th>Nome</th>\n",
       "      <th>Seguidores</th>\n",
       "      <th>Seguindo</th>\n",
       "      <th>Publicacoes</th>\n",
       "      <th>Data</th>\n",
       "    </tr>\n",
       "  </thead>\n",
       "  <tbody>\n",
       "    <tr>\n",
       "      <th>0</th>\n",
       "      <td>bbb</td>\n",
       "      <td>18.100.974</td>\n",
       "      <td>86</td>\n",
       "      <td>3.549</td>\n",
       "      <td>07/04/2022</td>\n",
       "    </tr>\n",
       "    <tr>\n",
       "      <th>1</th>\n",
       "      <td>arthuraguiar</td>\n",
       "      <td>12.963.523</td>\n",
       "      <td>640</td>\n",
       "      <td>2.160</td>\n",
       "      <td>07/04/2022</td>\n",
       "    </tr>\n",
       "    <tr>\n",
       "      <th>2</th>\n",
       "      <td>douglassilva</td>\n",
       "      <td>3.052.872</td>\n",
       "      <td>1.206</td>\n",
       "      <td>688</td>\n",
       "      <td>07/04/2022</td>\n",
       "    </tr>\n",
       "    <tr>\n",
       "      <th>3</th>\n",
       "      <td>eliezer</td>\n",
       "      <td>1.061.998</td>\n",
       "      <td>1.992</td>\n",
       "      <td>1.077</td>\n",
       "      <td>07/04/2022</td>\n",
       "    </tr>\n",
       "    <tr>\n",
       "      <th>4</th>\n",
       "      <td>linndaquebrada</td>\n",
       "      <td>2.778.407</td>\n",
       "      <td>1.491</td>\n",
       "      <td>2.273</td>\n",
       "      <td>07/04/2022</td>\n",
       "    </tr>\n",
       "    <tr>\n",
       "      <th>5</th>\n",
       "      <td>iampauloandre</td>\n",
       "      <td>6.548.626</td>\n",
       "      <td>914</td>\n",
       "      <td>163</td>\n",
       "      <td>07/04/2022</td>\n",
       "    </tr>\n",
       "    <tr>\n",
       "      <th>6</th>\n",
       "      <td>lucianoestevan</td>\n",
       "      <td>1.004.838</td>\n",
       "      <td>2.219</td>\n",
       "      <td>226</td>\n",
       "      <td>07/04/2022</td>\n",
       "    </tr>\n",
       "    <tr>\n",
       "      <th>7</th>\n",
       "      <td>dra.laiscaldass</td>\n",
       "      <td>1.673.122</td>\n",
       "      <td>971</td>\n",
       "      <td>768</td>\n",
       "      <td>07/04/2022</td>\n",
       "    </tr>\n",
       "    <tr>\n",
       "      <th>8</th>\n",
       "      <td>jessilane</td>\n",
       "      <td>1.192.117</td>\n",
       "      <td>3.816</td>\n",
       "      <td>314</td>\n",
       "      <td>07/04/2022</td>\n",
       "    </tr>\n",
       "    <tr>\n",
       "      <th>9</th>\n",
       "      <td>eslomarques</td>\n",
       "      <td>2.508.737</td>\n",
       "      <td>1.436</td>\n",
       "      <td>818</td>\n",
       "      <td>07/04/2022</td>\n",
       "    </tr>\n",
       "    <tr>\n",
       "      <th>10</th>\n",
       "      <td>bissolilucas</td>\n",
       "      <td>1.443.697</td>\n",
       "      <td>1.015</td>\n",
       "      <td>321</td>\n",
       "      <td>07/04/2022</td>\n",
       "    </tr>\n",
       "    <tr>\n",
       "      <th>11</th>\n",
       "      <td>ba.heck</td>\n",
       "      <td>1.514.747</td>\n",
       "      <td>1.561</td>\n",
       "      <td>3.150</td>\n",
       "      <td>07/04/2022</td>\n",
       "    </tr>\n",
       "    <tr>\n",
       "      <th>12</th>\n",
       "      <td>rodrigo.mussi</td>\n",
       "      <td>3.265.974</td>\n",
       "      <td>907</td>\n",
       "      <td>354</td>\n",
       "      <td>07/04/2022</td>\n",
       "    </tr>\n",
       "    <tr>\n",
       "      <th>13</th>\n",
       "      <td>natalia.deodato</td>\n",
       "      <td>2.648.953</td>\n",
       "      <td>4.651</td>\n",
       "      <td>380</td>\n",
       "      <td>07/04/2022</td>\n",
       "    </tr>\n",
       "    <tr>\n",
       "      <th>14</th>\n",
       "      <td>vyniof</td>\n",
       "      <td>4.675.218</td>\n",
       "      <td>571</td>\n",
       "      <td>262</td>\n",
       "      <td>07/04/2022</td>\n",
       "    </tr>\n",
       "    <tr>\n",
       "      <th>15</th>\n",
       "      <td>pedroscooby</td>\n",
       "      <td>4.756.554</td>\n",
       "      <td>1.077</td>\n",
       "      <td>2.482</td>\n",
       "      <td>07/04/2022</td>\n",
       "    </tr>\n",
       "    <tr>\n",
       "      <th>16</th>\n",
       "      <td>brunnagoncalves</td>\n",
       "      <td>5.248.787</td>\n",
       "      <td>785</td>\n",
       "      <td>1.134</td>\n",
       "      <td>07/04/2022</td>\n",
       "    </tr>\n",
       "    <tr>\n",
       "      <th>17</th>\n",
       "      <td>eumaria</td>\n",
       "      <td>3.264.282</td>\n",
       "      <td>953</td>\n",
       "      <td>155</td>\n",
       "      <td>07/04/2022</td>\n",
       "    </tr>\n",
       "    <tr>\n",
       "      <th>18</th>\n",
       "      <td>jadepicon</td>\n",
       "      <td>19.503.014</td>\n",
       "      <td>588</td>\n",
       "      <td>2.427</td>\n",
       "      <td>07/04/2022</td>\n",
       "    </tr>\n",
       "    <tr>\n",
       "      <th>19</th>\n",
       "      <td>tiagoabravanel</td>\n",
       "      <td>4.216.369</td>\n",
       "      <td>3.335</td>\n",
       "      <td>2.458</td>\n",
       "      <td>07/04/2022</td>\n",
       "    </tr>\n",
       "    <tr>\n",
       "      <th>20</th>\n",
       "      <td>naiaraazevedo</td>\n",
       "      <td>7.515.896</td>\n",
       "      <td>5.656</td>\n",
       "      <td>2.985</td>\n",
       "      <td>07/04/2022</td>\n",
       "    </tr>\n",
       "    <tr>\n",
       "      <th>21</th>\n",
       "      <td>gustavo_marsengo</td>\n",
       "      <td>1.139.834</td>\n",
       "      <td>1.018</td>\n",
       "      <td>285</td>\n",
       "      <td>07/04/2022</td>\n",
       "    </tr>\n",
       "    <tr>\n",
       "      <th>22</th>\n",
       "      <td>larissatomasia</td>\n",
       "      <td>854.595</td>\n",
       "      <td>1.825</td>\n",
       "      <td>238</td>\n",
       "      <td>07/04/2022</td>\n",
       "    </tr>\n",
       "  </tbody>\n",
       "</table>\n",
       "</div>"
      ],
      "text/plain": [
       "                Nome  Seguidores Seguindo Publicacoes        Data\n",
       "0                bbb  18.100.974       86       3.549  07/04/2022\n",
       "1       arthuraguiar  12.963.523      640       2.160  07/04/2022\n",
       "2       douglassilva   3.052.872    1.206         688  07/04/2022\n",
       "3            eliezer   1.061.998    1.992       1.077  07/04/2022\n",
       "4     linndaquebrada   2.778.407    1.491       2.273  07/04/2022\n",
       "5      iampauloandre   6.548.626      914         163  07/04/2022\n",
       "6     lucianoestevan   1.004.838    2.219         226  07/04/2022\n",
       "7    dra.laiscaldass   1.673.122      971         768  07/04/2022\n",
       "8          jessilane   1.192.117    3.816         314  07/04/2022\n",
       "9        eslomarques   2.508.737    1.436         818  07/04/2022\n",
       "10      bissolilucas   1.443.697    1.015         321  07/04/2022\n",
       "11           ba.heck   1.514.747    1.561       3.150  07/04/2022\n",
       "12     rodrigo.mussi   3.265.974      907         354  07/04/2022\n",
       "13   natalia.deodato   2.648.953    4.651         380  07/04/2022\n",
       "14            vyniof   4.675.218      571         262  07/04/2022\n",
       "15       pedroscooby   4.756.554    1.077       2.482  07/04/2022\n",
       "16   brunnagoncalves   5.248.787      785       1.134  07/04/2022\n",
       "17           eumaria   3.264.282      953         155  07/04/2022\n",
       "18         jadepicon  19.503.014      588       2.427  07/04/2022\n",
       "19    tiagoabravanel   4.216.369    3.335       2.458  07/04/2022\n",
       "20     naiaraazevedo   7.515.896    5.656       2.985  07/04/2022\n",
       "21  gustavo_marsengo   1.139.834    1.018         285  07/04/2022\n",
       "22    larissatomasia     854.595    1.825         238  07/04/2022"
      ]
     },
     "metadata": {},
     "output_type": "display_data"
    }
   ],
   "source": [
    "display(tabela)"
   ]
  },
  {
   "cell_type": "code",
   "execution_count": 26,
   "id": "4196aa82",
   "metadata": {},
   "outputs": [],
   "source": [
    "tabela.to_excel(\"consulta_BBB.xlsx\")"
   ]
  }
 ],
 "metadata": {
  "kernelspec": {
   "display_name": "pyenvj",
   "language": "python",
   "name": "pyenvj"
  },
  "language_info": {
   "codemirror_mode": {
    "name": "ipython",
    "version": 3
   },
   "file_extension": ".py",
   "mimetype": "text/x-python",
   "name": "python",
   "nbconvert_exporter": "python",
   "pygments_lexer": "ipython3",
   "version": "3.9.9"
  }
 },
 "nbformat": 4,
 "nbformat_minor": 5
}
